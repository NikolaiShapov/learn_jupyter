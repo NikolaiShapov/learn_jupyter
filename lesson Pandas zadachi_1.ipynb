{
 "cells": [
  {
   "cell_type": "code",
   "execution_count": 2,
   "id": "44b29019",
   "metadata": {},
   "outputs": [],
   "source": [
    "import pandas as pd\n",
    "import csv"
   ]
  },
  {
   "cell_type": "code",
   "execution_count": 4,
   "id": "79fffa70",
   "metadata": {},
   "outputs": [],
   "source": [
    "stations = pd.read_csv(open(r'Base_Data\\bus_stops.csv', 'r', encoding = 'cp1251'), sep = ';')"
   ]
  },
  {
   "cell_type": "code",
   "execution_count": 5,
   "id": "2bbab19b",
   "metadata": {},
   "outputs": [
    {
     "data": {
      "text/html": [
       "<div>\n",
       "<style scoped>\n",
       "    .dataframe tbody tr th:only-of-type {\n",
       "        vertical-align: middle;\n",
       "    }\n",
       "\n",
       "    .dataframe tbody tr th {\n",
       "        vertical-align: top;\n",
       "    }\n",
       "\n",
       "    .dataframe thead th {\n",
       "        text-align: right;\n",
       "    }\n",
       "</style>\n",
       "<table border=\"1\" class=\"dataframe\">\n",
       "  <thead>\n",
       "    <tr style=\"text-align: right;\">\n",
       "      <th></th>\n",
       "      <th>ID</th>\n",
       "      <th>Name</th>\n",
       "      <th>Longitude_WGS84</th>\n",
       "      <th>Latitude_WGS84</th>\n",
       "      <th>AdmArea</th>\n",
       "      <th>District</th>\n",
       "      <th>RouteNumbers</th>\n",
       "      <th>StationName</th>\n",
       "      <th>Direction</th>\n",
       "      <th>Pavilion</th>\n",
       "      <th>OperatingOrgName</th>\n",
       "      <th>EntryState</th>\n",
       "      <th>global_id</th>\n",
       "      <th>PlaceDescription</th>\n",
       "      <th>Works</th>\n",
       "      <th>geodata_center</th>\n",
       "      <th>geoarea</th>\n",
       "    </tr>\n",
       "  </thead>\n",
       "  <tbody>\n",
       "    <tr>\n",
       "      <th>0</th>\n",
       "      <td>Локальный идентификатор</td>\n",
       "      <td>Наименование</td>\n",
       "      <td>Долгота в WGS-84</td>\n",
       "      <td>Широта в WGS-84</td>\n",
       "      <td>Административный округ</td>\n",
       "      <td>Район</td>\n",
       "      <td>Маршруты</td>\n",
       "      <td>Название остановки</td>\n",
       "      <td>Направление</td>\n",
       "      <td>Наличие павильона</td>\n",
       "      <td>Балансодержатель павильона ожидания (пилона, т...</td>\n",
       "      <td>Состояние записи</td>\n",
       "      <td>global_id</td>\n",
       "      <td>Описание места расположения объекта</td>\n",
       "      <td>Работы</td>\n",
       "      <td>geodata_center</td>\n",
       "      <td>geoarea</td>\n",
       "    </tr>\n",
       "  </tbody>\n",
       "</table>\n",
       "</div>"
      ],
      "text/plain": [
       "                        ID          Name   Longitude_WGS84   Latitude_WGS84  \\\n",
       "0  Локальный идентификатор  Наименование  Долгота в WGS-84  Широта в WGS-84   \n",
       "\n",
       "                  AdmArea District RouteNumbers         StationName  \\\n",
       "0  Административный округ    Район     Маршруты  Название остановки   \n",
       "\n",
       "     Direction           Pavilion  \\\n",
       "0  Направление  Наличие павильона   \n",
       "\n",
       "                                    OperatingOrgName        EntryState  \\\n",
       "0  Балансодержатель павильона ожидания (пилона, т...  Состояние записи   \n",
       "\n",
       "   global_id                     PlaceDescription   Works  geodata_center  \\\n",
       "0  global_id  Описание места расположения объекта  Работы  geodata_center   \n",
       "\n",
       "   geoarea  \n",
       "0  geoarea  "
      ]
     },
     "execution_count": 5,
     "metadata": {},
     "output_type": "execute_result"
    }
   ],
   "source": [
    "stations[:1]"
   ]
  },
  {
   "cell_type": "code",
   "execution_count": 29,
   "id": "bb6cd12a",
   "metadata": {},
   "outputs": [
    {
     "data": {
      "text/html": [
       "<div>\n",
       "<style scoped>\n",
       "    .dataframe tbody tr th:only-of-type {\n",
       "        vertical-align: middle;\n",
       "    }\n",
       "\n",
       "    .dataframe tbody tr th {\n",
       "        vertical-align: top;\n",
       "    }\n",
       "\n",
       "    .dataframe thead th {\n",
       "        text-align: right;\n",
       "    }\n",
       "</style>\n",
       "<table border=\"1\" class=\"dataframe\">\n",
       "  <thead>\n",
       "    <tr style=\"text-align: right;\">\n",
       "      <th></th>\n",
       "      <th>ID</th>\n",
       "      <th>Name</th>\n",
       "      <th>Longitude_WGS84</th>\n",
       "      <th>Latitude_WGS84</th>\n",
       "      <th>AdmArea</th>\n",
       "      <th>District</th>\n",
       "      <th>RouteNumbers</th>\n",
       "      <th>StationName</th>\n",
       "      <th>Direction</th>\n",
       "      <th>Pavilion</th>\n",
       "      <th>OperatingOrgName</th>\n",
       "      <th>EntryState</th>\n",
       "      <th>global_id</th>\n",
       "      <th>PlaceDescription</th>\n",
       "      <th>Works</th>\n",
       "      <th>geodata_center</th>\n",
       "      <th>geoarea</th>\n",
       "    </tr>\n",
       "  </thead>\n",
       "  <tbody>\n",
       "    <tr>\n",
       "      <th>0</th>\n",
       "      <td>Локальный идентификатор</td>\n",
       "      <td>Наименование</td>\n",
       "      <td>Долгота в WGS-84</td>\n",
       "      <td>Широта в WGS-84</td>\n",
       "      <td>Административный округ</td>\n",
       "      <td>Район</td>\n",
       "      <td>Маршруты</td>\n",
       "      <td>Название остановки</td>\n",
       "      <td>Направление</td>\n",
       "      <td>Наличие павильона</td>\n",
       "      <td>Балансодержатель павильона ожидания (пилона, т...</td>\n",
       "      <td>Состояние записи</td>\n",
       "      <td>global_id</td>\n",
       "      <td>Описание места расположения объекта</td>\n",
       "      <td>Работы</td>\n",
       "      <td>geodata_center</td>\n",
       "      <td>geoarea</td>\n",
       "    </tr>\n",
       "    <tr>\n",
       "      <th>1</th>\n",
       "      <td>7</td>\n",
       "      <td>«Дербеневская наб.», 3-й Дербеневский переулок...</td>\n",
       "      <td>37.6551636</td>\n",
       "      <td>55.72566817</td>\n",
       "      <td>Южный административный округ</td>\n",
       "      <td>Даниловский район</td>\n",
       "      <td>А913; АС932</td>\n",
       "      <td>Дербеневская наб.</td>\n",
       "      <td>от центра</td>\n",
       "      <td>да</td>\n",
       "      <td>ГУП «Мосгортранс»</td>\n",
       "      <td>активна</td>\n",
       "      <td>889076457</td>\n",
       "      <td>Дербеневская ул., д.1</td>\n",
       "      <td>NaN</td>\n",
       "      <td>NaN</td>\n",
       "      <td>NaN</td>\n",
       "    </tr>\n",
       "  </tbody>\n",
       "</table>\n",
       "</div>"
      ],
      "text/plain": [
       "                        ID                                               Name  \\\n",
       "0  Локальный идентификатор                                       Наименование   \n",
       "1                        7  «Дербеневская наб.», 3-й Дербеневский переулок...   \n",
       "\n",
       "    Longitude_WGS84   Latitude_WGS84                       AdmArea  \\\n",
       "0  Долгота в WGS-84  Широта в WGS-84        Административный округ   \n",
       "1        37.6551636      55.72566817  Южный административный округ   \n",
       "\n",
       "            District RouteNumbers         StationName    Direction  \\\n",
       "0              Район     Маршруты  Название остановки  Направление   \n",
       "1  Даниловский район  А913; АС932   Дербеневская наб.    от центра   \n",
       "\n",
       "            Pavilion                                   OperatingOrgName  \\\n",
       "0  Наличие павильона  Балансодержатель павильона ожидания (пилона, т...   \n",
       "1                 да                                  ГУП «Мосгортранс»   \n",
       "\n",
       "         EntryState  global_id                     PlaceDescription   Works  \\\n",
       "0  Состояние записи  global_id  Описание места расположения объекта  Работы   \n",
       "1           активна  889076457                Дербеневская ул., д.1     NaN   \n",
       "\n",
       "   geodata_center  geoarea  \n",
       "0  geodata_center  geoarea  \n",
       "1             NaN      NaN  "
      ]
     },
     "execution_count": 29,
     "metadata": {},
     "output_type": "execute_result"
    }
   ],
   "source": [
    "stations.head(2)"
   ]
  },
  {
   "cell_type": "code",
   "execution_count": 31,
   "id": "2c579006",
   "metadata": {},
   "outputs": [],
   "source": [
    "stations_count = stations.groupby(['PlaceDescription']).size()"
   ]
  },
  {
   "cell_type": "code",
   "execution_count": 51,
   "id": "67685841",
   "metadata": {},
   "outputs": [
    {
     "data": {
      "text/plain": [
       "pandas.core.frame.DataFrame"
      ]
     },
     "execution_count": 51,
     "metadata": {},
     "output_type": "execute_result"
    }
   ],
   "source": [
    "type(stations_count)\n",
    "type(stations)"
   ]
  },
  {
   "cell_type": "code",
   "execution_count": 49,
   "id": "1275cc66",
   "metadata": {},
   "outputs": [
    {
     "data": {
      "text/plain": [
       "'1'"
      ]
     },
     "execution_count": 49,
     "metadata": {},
     "output_type": "execute_result"
    }
   ],
   "source": [
    "streets = stations['PlaceDescription'][1]\n",
    "for street in streets:\n",
    "    street.replace(',','!')\n",
    "street"
   ]
  },
  {
   "cell_type": "code",
   "execution_count": 45,
   "id": "238b5200",
   "metadata": {},
   "outputs": [
    {
     "data": {
      "text/plain": [
       "0    Описание места расположения объекта\n",
       "1                  Дербеневская ул., д.1\n",
       "2                Кутузовский просп., д.1\n",
       "3            3-я Черепковская ул., д.15А\n",
       "4                ул. Сущёвский Вал, д.25\n",
       "Name: PlaceDescription, dtype: object"
      ]
     },
     "execution_count": 45,
     "metadata": {},
     "output_type": "execute_result"
    }
   ],
   "source": [
    "streets = streets.replace(',','!')\n",
    "streets[0:5]"
   ]
  },
  {
   "cell_type": "code",
   "execution_count": 33,
   "id": "950c1343",
   "metadata": {},
   "outputs": [],
   "source": [
    "stations_count.sort_values(ascending = False, inplace = True)"
   ]
  },
  {
   "cell_type": "code",
   "execution_count": 34,
   "id": "2d2cc9f8",
   "metadata": {},
   "outputs": [
    {
     "data": {
      "text/plain": [
       "PlaceDescription\n",
       "Краснобогатырская ул., д.2    10\n",
       "Профсоюзная ул., д.129А        9\n",
       "ул. Федосьино, д.3Б            9\n",
       "просп. Мира, д.119             8\n",
       "Планерная ул., д.7             8\n",
       "                              ..\n",
       "Михневская ул., д.17           1\n",
       "Михалковская ул., д.9          1\n",
       "Михалковская ул., д.52         1\n",
       "Михалковская ул., д.38         1\n",
       "ш. Энтузиастов, д.98, к.2      1\n",
       "Length: 8772, dtype: int64"
      ]
     },
     "execution_count": 34,
     "metadata": {},
     "output_type": "execute_result"
    }
   ],
   "source": [
    "stations_count"
   ]
  },
  {
   "cell_type": "code",
   "execution_count": 28,
   "id": "56029ac2",
   "metadata": {},
   "outputs": [
    {
     "data": {
      "text/plain": [
       "Pavilion\n",
       "Наличие павильона       1\n",
       "да                   8060\n",
       "нет                  3917\n",
       "dtype: int64"
      ]
     },
     "execution_count": 28,
     "metadata": {},
     "output_type": "execute_result"
    }
   ],
   "source": [
    "Pavilion_count = stations.groupby(['Pavilion']).size()\n",
    "Pavilion_count"
   ]
  },
  {
   "cell_type": "code",
   "execution_count": null,
   "id": "21a61946",
   "metadata": {},
   "outputs": [],
   "source": []
  }
 ],
 "metadata": {
  "kernelspec": {
   "display_name": "Python 3 (ipykernel)",
   "language": "python",
   "name": "python3"
  },
  "language_info": {
   "codemirror_mode": {
    "name": "ipython",
    "version": 3
   },
   "file_extension": ".py",
   "mimetype": "text/x-python",
   "name": "python",
   "nbconvert_exporter": "python",
   "pygments_lexer": "ipython3",
   "version": "3.10.6"
  }
 },
 "nbformat": 4,
 "nbformat_minor": 5
}
